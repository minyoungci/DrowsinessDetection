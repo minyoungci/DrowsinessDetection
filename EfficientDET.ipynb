{
 "cells": [
  {
   "cell_type": "code",
   "execution_count": 1,
   "metadata": {},
   "outputs": [
    {
     "data": {
      "text/plain": [
       "928"
      ]
     },
     "execution_count": 1,
     "metadata": {},
     "output_type": "execute_result"
    }
   ],
   "source": [
    "from pathlib import Path\n",
    "train_paths = Path(\"/home/minyoungxi/MINYOUNGXI/Project/MobileNet/data/images\")\n",
    "len(list(train_paths.glob(\"*\")))"
   ]
  },
  {
   "cell_type": "code",
   "execution_count": 2,
   "metadata": {},
   "outputs": [
    {
     "data": {
      "text/plain": [
       "11"
      ]
     },
     "execution_count": 2,
     "metadata": {},
     "output_type": "execute_result"
    }
   ],
   "source": [
    "from pathlib import Path\n",
    "test_paths = Path(\"/home/minyoungxi/MINYOUNGXI/Project/MobileNet/data/test\")\n",
    "len(list(test_paths.glob(\"*\")))"
   ]
  },
  {
   "cell_type": "code",
   "execution_count": null,
   "metadata": {},
   "outputs": [],
   "source": [
    "import pandas as pd\n",
    "\n",
    "train_labels_df = pd.read_csv(\"path/to/train/labels.csv\")\n",
    "\n",
    "x = []\n",
    "y = []\n",
    "w = []\n",
    "h = []\n",
    "for bbox in train_labels_df['bbox']:\n",
    "    bbox = eval(bbox)\n",
    "    x.append(bbox[0])\n",
    "    y.append(bbox[1])\n",
    "    w.append(bbox[2])\n",
    "    h.append(bbox[3])\n",
    "\n",
    "processed_train_labels_df = train_labels_df.copy()\n",
    "processed_train_labels_df[\"x\"] = x\n",
    "processed_train_labels_df[\"y\"] = y\n",
    "processed_train_labels_df[\"w\"] = w\n",
    "processed_train_labels_df[\"h\"] = h\n",
    "\n",
    "processed_train_labels_df[\"area\"] = processed_train_labels_df[\"w\"] * processed_train_labels_df[\"h\"]\n",
    "processed_train_labels_df[\"x2\"] = processed_train_labels_df[\"x\"] + processed_train_labels_df[\"w\"]\n",
    "processed_train_labels_df[\"y2\"] = processed_train_labels_df[\"y\"] + processed_train_labels_df[\"h\"]"
   ]
  },
  {
   "cell_type": "code",
   "execution_count": null,
   "metadata": {},
   "outputs": [],
   "source": [
    "from pathlib import Path\n",
    "from PIL import Image, ImageDraw\n",
    "\n",
    "img_id = \"awake-3f278fe6-45f3-11ec-9b31-e86a643e0ce2_jpg.rf.9fbac488b0e35eeff82e9cbea5dd56f5.jpg\"\n",
    "img_path = Path(f\"/home/minyoungxi/MINYOUNGXI/Project/MobileNet/data/images/{img_id}.jpg\")\n",
    "img = Image.open(img_path)\n",
    "draw = ImageDraw.Draw(img)\n",
    "bboxes = train_labels_df.loc[lambda df: df[\"image_id\"] == img_id, \"bbox\"].tolist()\n",
    "for bbox in bboxes:\n",
    "    x, y, w, h = eval(bbox)\n",
    "    transformed_bbox = [x, y, x + w, y + h]\n",
    "    draw.rectangle(transformed_bbox, outline=\"black\", width=3)\n",
    "img.save(\"/home/minyoungxi/MINYOUNGXI/Project/MobileNet/output/{img_id}.png\")\n",
    "img"
   ]
  }
 ],
 "metadata": {
  "kernelspec": {
   "display_name": "tf",
   "language": "python",
   "name": "python3"
  },
  "language_info": {
   "codemirror_mode": {
    "name": "ipython",
    "version": 3
   },
   "file_extension": ".py",
   "mimetype": "text/x-python",
   "name": "python",
   "nbconvert_exporter": "python",
   "pygments_lexer": "ipython3",
   "version": "3.8.17"
  }
 },
 "nbformat": 4,
 "nbformat_minor": 2
}
